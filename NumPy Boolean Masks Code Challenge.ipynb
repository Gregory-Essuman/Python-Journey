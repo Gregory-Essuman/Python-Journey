{
 "cells": [
  {
   "cell_type": "markdown",
   "metadata": {},
   "source": [
    "# Numpy Boolean Masks Code Challenge\n",
    "\n",
    "### Extracting All Even Values"
   ]
  },
  {
   "cell_type": "markdown",
   "metadata": {},
   "source": [
    "In this practice problem, we want you to extract all even values from a 2-dimensional array. The result should be a 1-dimensional array that contains all even values of the provided 2-dimensional array.\n",
    "\n",
    "x = np.array([\n",
    "    [6, 8, 9, 4, 4], \n",
    "    [8, 1, 5, 3, 10], \n",
    "    [2, 6, 7, 6, 6], \n",
    "    [7, 8, 3, 6, 7], \n",
    "    [10, 7, 7, 5, 2]\n",
    "])"
   ]
  },
  {
   "cell_type": "code",
   "execution_count": 1,
   "metadata": {},
   "outputs": [
    {
     "name": "stdout",
     "output_type": "stream",
     "text": [
      "[ 6  8  4  4  8 10  2  6  6  6  8  6 10  2]\n"
     ]
    }
   ],
   "source": [
    "import numpy as np\n",
    "\n",
    "x = np.array([\n",
    "    [6, 8, 9, 4, 4], \n",
    "    [8, 1, 5, 3, 10], \n",
    "    [2, 6, 7, 6, 6], \n",
    "    [7, 8, 3, 6, 7], \n",
    "    [10, 7, 7, 5, 2]\n",
    "])\n",
    "\n",
    "even_bool = x % 2 == 0\n",
    "even_values = x[even_bool]\n",
    "print(even_values)"
   ]
  },
  {
   "cell_type": "markdown",
   "metadata": {},
   "source": [
    "### Extracting All Odd Values\n",
    "\n",
    "In this practice problem, we want you to extract all odd values from a 2-dimensional array. The result should be a 1-dimensional array that contains all even values of the provided 2-dimensional array.\n",
    "\n",
    "x = np.array([\n",
    "    [6, 8, 9, 4, 4], \n",
    "    [8, 1, 5, 3, 10], \n",
    "    [2, 6, 7, 6, 6], \n",
    "    [7, 8, 3, 6, 7], \n",
    "    [10, 7, 7, 5, 2]\n",
    "])"
   ]
  },
  {
   "cell_type": "code",
   "execution_count": 2,
   "metadata": {},
   "outputs": [
    {
     "name": "stdout",
     "output_type": "stream",
     "text": [
      "[9 1 5 3 7 7 3 7 7 7 5]\n"
     ]
    }
   ],
   "source": [
    "x = np.array([\n",
    "    [6, 8, 9, 4, 4], \n",
    "    [8, 1, 5, 3, 10], \n",
    "    [2, 6, 7, 6, 6], \n",
    "    [7, 8, 3, 6, 7], \n",
    "    [10, 7, 7, 5, 2]\n",
    "])\n",
    "\n",
    "odd_bool = x % 2 != 0\n",
    "odd_values = x[odd_bool]\n",
    "print(odd_values)"
   ]
  },
  {
   "cell_type": "markdown",
   "metadata": {},
   "source": [
    "### Extracting Positive Values\n",
    "\n",
    "In this practice problem, we want you to extract all positive values from a 2-dimensional array. The result should be a 1-dimensional array that contains all positive values of the provided 2-dimensional array.\n",
    "\n",
    "x = np.array([\n",
    "    [-6, 8, -9, 4, -4], \n",
    "    [8, -1, 5, 3, 10], \n",
    "    [2, 6, 7, 6, -6], \n",
    "    [7, -8, 3, -6, 7], \n",
    "    [10, -7, 7, -5, 2]\n",
    "])"
   ]
  },
  {
   "cell_type": "code",
   "execution_count": 3,
   "metadata": {},
   "outputs": [
    {
     "name": "stdout",
     "output_type": "stream",
     "text": [
      "[ 8  4  8  5  3 10  2  6  7  6  7  3  7 10  7  2]\n"
     ]
    }
   ],
   "source": [
    "x = np.array([\n",
    "    [-6, 8, -9, 4, -4], \n",
    "    [8, -1, 5, 3, 10], \n",
    "    [2, 6, 7, 6, -6], \n",
    "    [7, -8, 3, -6, 7], \n",
    "    [10, -7, 7, -5, 2]\n",
    "])\n",
    "\n",
    "positive_bool = x > 0\n",
    "positive_values = x[positive_bool]\n",
    "print(positive_values)"
   ]
  },
  {
   "cell_type": "markdown",
   "metadata": {},
   "source": [
    "### Extracting Negative Values\n",
    "\n",
    "In this practice problem, we want you to extract all negative values from a 2-dimensional array. The result should be a 1-dimensional array that contains all negative values of the provided 2-dimensional array. \n",
    "\n",
    "x = np.array([\n",
    "    [-6, 8, -9, 4, -4], \n",
    "    [8, -1, 5, 3, 10], \n",
    "    [2, 6, 7, 6, -6], \n",
    "    [7, -8, 3, -6, 7], \n",
    "    [10, -7, 7, -5, 2]\n",
    "])"
   ]
  },
  {
   "cell_type": "code",
   "execution_count": 4,
   "metadata": {},
   "outputs": [
    {
     "name": "stdout",
     "output_type": "stream",
     "text": [
      "[-6 -9 -4 -1 -6 -8 -6 -7 -5]\n"
     ]
    }
   ],
   "source": [
    "x = np.array([\n",
    "    [-6, 8, -9, 4, -4], \n",
    "    [8, -1, 5, 3, 10], \n",
    "    [2, 6, 7, 6, -6], \n",
    "    [7, -8, 3, -6, 7], \n",
    "    [10, -7, 7, -5, 2]\n",
    "])\n",
    "\n",
    "negative_bool = x < 0\n",
    "negative_values = x[negative_bool]\n",
    "print(negative_values)"
   ]
  },
  {
   "cell_type": "markdown",
   "metadata": {},
   "source": [
    "### Counting Values\n",
    "\n",
    "In this practice problem, we want you to write a count_values() function given an ndarray, returns how many negative, zero, and positive values it contains.\n",
    "\n",
    "Example:\n",
    "\n",
    "x = np.array([\n",
    "    [2, 0, -1, 3],\n",
    "    [-5, 1, 0, 4],\n",
    "    [7, 0, 0, -1]\n",
    "])\n",
    "print(count_values(x))\n",
    "\n",
    "Result:\n",
    "\n",
    "(3, 4, 5)\n",
    "\n",
    "The 3 indicates the number of negative values, the 4 indicates the number of zeros, and the 5 indicates the number of positive values. The value counts should be returned in this order\n",
    "\n",
    "##### Testing Code\n",
    "#x = np.array([[2, 0, -1, 3], [-5, 1, 0, 4], [7, 0, 0, -1]])\n",
    "#print(count_values(x))"
   ]
  },
  {
   "cell_type": "code",
   "execution_count": 5,
   "metadata": {},
   "outputs": [
    {
     "name": "stdout",
     "output_type": "stream",
     "text": [
      "(3, 4, 5)\n"
     ]
    }
   ],
   "source": [
    "def count_values(x):\n",
    "    \"\"\"\n",
    "    This function takes in an ndarray and returns\n",
    "    the count of negative, zero and positive numbers \n",
    "    consecutively as a tuple. \n",
    "    \"\"\"\n",
    "    num_neg = len(x[x<0])\n",
    "    num_zero = len(x[x==0])\n",
    "    num_pos = len(x[x>0])\n",
    "    \n",
    "    return (num_neg,num_zero,num_pos)\n",
    "\n",
    "# Testing Code\n",
    "x = np.array([[2, 0, -1, 3], [-5, 1, 0, 4], [7, 0, 0, -1]])\n",
    "print(count_values(x))"
   ]
  },
  {
   "cell_type": "markdown",
   "metadata": {},
   "source": [
    "### Selecting Rows by Sum\n",
    "\n",
    "In this practice problem, we want you to select all rows from a given 2-dimensional array whose sum is larger than 30.\n",
    "\n",
    "x = np.array([\n",
    "    [6, 8, 9, 4, 4], \n",
    "    [8, 1, 5, 3, 10], \n",
    "    [2, 6, 7, 6, 6], \n",
    "    [7, 8, 3, 6, 7], \n",
    "    [10, 7, 7, 5, 2]\n",
    "])"
   ]
  },
  {
   "cell_type": "code",
   "execution_count": 6,
   "metadata": {},
   "outputs": [
    {
     "name": "stdout",
     "output_type": "stream",
     "text": [
      "[[ 6  8  9  4  4]\n",
      " [ 7  8  3  6  7]\n",
      " [10  7  7  5  2]]\n"
     ]
    }
   ],
   "source": [
    "x = np.array([\n",
    "    [6, 8, 9, 4, 4], \n",
    "    [8, 1, 5, 3, 10], \n",
    "    [2, 6, 7, 6, 6], \n",
    "    [7, 8, 3, 6, 7], \n",
    "    [10, 7, 7, 5, 2]\n",
    "])\n",
    "\n",
    "rows_larger_30 = x[x.sum(axis=1) > 30]\n",
    "print(rows_larger_30)"
   ]
  },
  {
   "cell_type": "markdown",
   "metadata": {},
   "source": [
    "### Selecting Columns by Sum\n",
    "\n",
    "In this practice problem, we want you to select all columns from a given 2-dimensional array whose sum is larger than 30.\n",
    "\n",
    "x = np.array([\n",
    "    [6, 8, 9, 4, 4], \n",
    "    [8, 1, 5, 3, 10], \n",
    "    [2, 6, 7, 6, 6], \n",
    "    [7, 8, 3, 6, 7], \n",
    "    [10, 7, 7, 5, 2]\n",
    "])"
   ]
  },
  {
   "cell_type": "code",
   "execution_count": 7,
   "metadata": {},
   "outputs": [
    {
     "name": "stdout",
     "output_type": "stream",
     "text": [
      "[[ 6  9]\n",
      " [ 8  5]\n",
      " [ 2  7]\n",
      " [ 7  3]\n",
      " [10  7]]\n"
     ]
    }
   ],
   "source": [
    "x = np.array([\n",
    "    [6, 8, 9, 4, 4], \n",
    "    [8, 1, 5, 3, 10], \n",
    "    [2, 6, 7, 6, 6], \n",
    "    [7, 8, 3, 6, 7], \n",
    "    [10, 7, 7, 5, 2]\n",
    "])\n",
    "cols_larger_30 = x[:, x.sum(axis=0) > 30]\n",
    "print(cols_larger_30)"
   ]
  },
  {
   "cell_type": "markdown",
   "metadata": {},
   "source": [
    "### Selecting Perfect Squares\n",
    "\n",
    "In mathematics, a perfect square is an integer number that is equal to the product of some other integer multiplied by itself.\n",
    "For example, 25 is a perfect square because it is equal to 5 × 5. Another example is 100 since it is equal to 10 × 10.\n",
    "In this practice problem, we provide you with a 1-dimensional array and want you to use a boolean mask to select all the perfect squares it contains.\n",
    "\n",
    "Depending on your solution, you might find the numpy.sqrt() function useful. It calculates the square roots of values in an ndarray.\n",
    "\n",
    "x = np.array([865, 395, 777, 912, 431, 42, 266, 989, 524, 498, 415, 941, 803, 850, 311, 992, 489, 367, 598, 914, 930, 224, 517, 143, 289, 144, 774, 98, 634, 819, 257, 932, 546, 723, 830, 617, 924, 151, 318, 102, 748, 76, 921, 871, 701, 339, 484, 574, 104, 363, 445, 324, 626, 656, 935, 210, 990, 566, 489, 454, 887, 534, 267, 64, 825, 941, 562, 938, 15, 96, 737, 861, 409, 728, 845, 804, 685, 641, 2, 627, 506, 848, 889, 342, 250, 748, 334, 721, 892, 65, 196, 940, 582, 228, 245, 823, 991, 146, 823, 557])"
   ]
  },
  {
   "cell_type": "code",
   "execution_count": 8,
   "metadata": {},
   "outputs": [
    {
     "name": "stdout",
     "output_type": "stream",
     "text": [
      "[289 144 484 324  64 196]\n"
     ]
    }
   ],
   "source": [
    "x = np.array([865, 395, 777, 912, 431, 42, 266, 989, 524, 498, 415, 941, 803, 850, 311, 992, 489, 367, 598, 914, 930, 224, 517, 143, 289, 144, 774, 98, 634, 819, 257, 932, 546, 723, 830, 617, 924, 151, 318, 102, 748, 76, 921, 871, 701, 339, 484, 574, 104, 363, 445, 324, 626, 656, 935, 210, 990, 566, 489, 454, 887, 534, 267, 64, 825, 941, 562, 938, 15, 96, 737, 861, 409, 728, 845, 804, 685, 641, 2, 627, 506, 848, 889, 342, 250, 748, 334, 721, 892, 65, 196, 940, 582, 228, 245, 823, 991, 146, 823, 557])\n",
    "\n",
    "sqnp = np.sqrt(x)\n",
    "squares_bool = x % sqnp == 0\n",
    "squares = x[squares_bool]\n",
    "print(squares)"
   ]
  },
  {
   "cell_type": "markdown",
   "metadata": {},
   "source": [
    "### Finding Rows without zeros\n",
    "\n",
    "In this practice problem, we provide you with a 2-dimensional array and we want you to extract all rows that do not contain any zero in them.\n",
    "\n",
    "You might find the numpy.count_nonzero() function useful. This function also provides the axis keyword argument so that we can use it to calculate the number of zeros in each row or column.\n",
    "\n",
    "x = np.array([\n",
    "    [6, 8, 90, 0, 4], \n",
    "    [8, 0, 5, 3, 10], \n",
    "    [2, 6, 10, 6, 6], \n",
    "    [10, 8, 3, 6, 7], \n",
    "    [10, 7, 7, 0, 2]\n",
    "])"
   ]
  },
  {
   "cell_type": "code",
   "execution_count": 9,
   "metadata": {},
   "outputs": [
    {
     "name": "stdout",
     "output_type": "stream",
     "text": [
      "[[ 2  6 10  6  6]\n",
      " [10  8  3  6  7]]\n"
     ]
    }
   ],
   "source": [
    "x = np.array([\n",
    "    [6, 8, 90, 0, 4], \n",
    "    [8, 0, 5, 3, 10], \n",
    "    [2, 6, 10, 6, 6], \n",
    "    [10, 8, 3, 6, 7], \n",
    "    [10, 7, 7, 0, 2]\n",
    "])\n",
    "\n",
    "num_non_zero = np.count_nonzero(x, axis = 1)\n",
    "num_non_zero_bool = num_non_zero == x.shape[1]\n",
    "rows_without_zeros = x[num_non_zero_bool]\n",
    "print(rows_without_zeros)"
   ]
  },
  {
   "cell_type": "markdown",
   "metadata": {},
   "source": [
    "### Finding Rows with zeros\n",
    "\n",
    "In this practice problem, we provide you with a 2-dimensional array and we want you to extract all rows that contain at least one zero.\n",
    "\n",
    "x = np.array([\n",
    "    [6, 8, 90, 0, 4], \n",
    "    [8, 0, 5, 3, 10], \n",
    "    [2, 6, 10, 6, 6], \n",
    "    [10, 8, 3, 6, 7], \n",
    "    [10, 7, 7, 0, 2]\n",
    "])"
   ]
  },
  {
   "cell_type": "code",
   "execution_count": 10,
   "metadata": {},
   "outputs": [
    {
     "name": "stdout",
     "output_type": "stream",
     "text": [
      "[[ 6  8 90  0  4]\n",
      " [ 8  0  5  3 10]\n",
      " [10  7  7  0  2]]\n"
     ]
    }
   ],
   "source": [
    "x = np.array([\n",
    "    [6, 8, 90, 0, 4], \n",
    "    [8, 0, 5, 3, 10], \n",
    "    [2, 6, 10, 6, 6], \n",
    "    [10, 8, 3, 6, 7], \n",
    "    [10, 7, 7, 0, 2]\n",
    "])\n",
    "\n",
    "num_zero = np.count_nonzero(x, axis = 1)\n",
    "num_zero_bool = num_zero < x.shape[1]\n",
    "rows_with_zeros = x[num_zero_bool]\n",
    "print(rows_with_zeros)"
   ]
  },
  {
   "cell_type": "markdown",
   "metadata": {},
   "source": [
    "### Finding Columns without zeros\n",
    "\n",
    "In this practice problem, we provide you with a 2-dimensional array and we want you to extract all columns that do not contain any zero on them.\n",
    "\n",
    "x = np.array([\n",
    "    [6, 8, 90, 0, 4], \n",
    "    [8, 0, 5, 3, 10], \n",
    "    [2, 6, 10, 6, 6], \n",
    "    [10, 8, 3, 6, 7], \n",
    "    [10, 7, 7, 0, 2]\n",
    "])"
   ]
  },
  {
   "cell_type": "code",
   "execution_count": 21,
   "metadata": {},
   "outputs": [
    {
     "name": "stdout",
     "output_type": "stream",
     "text": [
      "[[ 6 90  4]\n",
      " [ 8  5 10]\n",
      " [ 2 10  6]\n",
      " [10  3  7]\n",
      " [10  7  2]]\n"
     ]
    }
   ],
   "source": [
    "x = np.array([\n",
    "    [6, 8, 90, 0, 4], \n",
    "    [8, 0, 5, 3, 10], \n",
    "    [2, 6, 10, 6, 6], \n",
    "    [10, 8, 3, 6, 7], \n",
    "    [10, 7, 7, 0, 2]\n",
    "])\n",
    "\n",
    "num_nonzero = np.count_nonzero(x, axis = 0)\n",
    "num_nonzero_bool = num_nonzero == x.shape[0]\n",
    "cols_without_zeros = x[:,num_nonzero_bool]\n",
    "print(cols_without_zeros)"
   ]
  },
  {
   "cell_type": "markdown",
   "metadata": {},
   "source": [
    "### Finding Columns with zeros\n",
    "\n",
    "In this practice problem, we provide you with a 2-dimensional array and we want you to extract all columns that contain at least one zero.\n",
    "\n",
    "x = np.array([\n",
    "    [6, 8, 90, 0, 4], \n",
    "    [8, 0, 5, 3, 10], \n",
    "    [2, 6, 10, 6, 6], \n",
    "    [10, 8, 3, 6, 7], \n",
    "    [10, 7, 7, 0, 2]\n",
    "])"
   ]
  },
  {
   "cell_type": "code",
   "execution_count": 12,
   "metadata": {},
   "outputs": [
    {
     "name": "stdout",
     "output_type": "stream",
     "text": [
      "[[8 0]\n",
      " [0 3]\n",
      " [6 6]\n",
      " [8 6]\n",
      " [7 0]]\n"
     ]
    }
   ],
   "source": [
    "x = np.array([\n",
    "    [6, 8, 90, 0, 4], \n",
    "    [8, 0, 5, 3, 10], \n",
    "    [2, 6, 10, 6, 6], \n",
    "    [10, 8, 3, 6, 7], \n",
    "    [10, 7, 7, 0, 2]\n",
    "])\n",
    "\n",
    "num_zero = np.count_nonzero(x, axis = 0)\n",
    "num_zero_bool = num_zero < x.shape[0]\n",
    "cols_with_zeros = x[:,num_zero_bool]\n",
    "print(cols_with_zeros)"
   ]
  },
  {
   "cell_type": "markdown",
   "metadata": {},
   "source": [
    "### Finding Perfect Grades\n",
    "\n",
    "In this practice problem, we want you to write a function has_perfect_score() that given a 1-dimensional ndarray representing student grades between 0 and 100 (inclusive), returns whether any student had a grade equal to 100.\n",
    "\n",
    "Example:\n",
    "\n",
    "x = np.array([75, 67, 95, 100])\n",
    "print(has_perfect_score(x))\n",
    "\n",
    "Result:\n",
    "\n",
    "True\n",
    "\n",
    "Example:\n",
    "\n",
    "x = np.array([75, 67, 95, 99])\n",
    "print(has_perfect_score(x))\n",
    "\n",
    "Result:\n",
    "\n",
    "False\n",
    "\n",
    "##### Testing Code\n",
    "#x = np.array([75, 67, 95, 100])\n",
    "#print(has_perfect_score(x))\n",
    "\n",
    "#x = np.array([75, 67, 95, 99])\n",
    "#print(has_perfect_score(x))"
   ]
  },
  {
   "cell_type": "code",
   "execution_count": 13,
   "metadata": {},
   "outputs": [
    {
     "name": "stdout",
     "output_type": "stream",
     "text": [
      "True\n",
      "False\n"
     ]
    }
   ],
   "source": [
    "def has_perfect_score(x):\n",
    "    \"\"\"\n",
    "    This function takes in a 1-D ndarray representing\n",
    "    student grades between 0 and 100(inclusive) and returns \n",
    "    whether any student had a grade equal to 100. \n",
    "    \"\"\"\n",
    "    if 100 in x:\n",
    "        return True\n",
    "    else:\n",
    "        return False\n",
    "    \n",
    "    #Alternate function code block\n",
    "    #return (x == 100).any()\n",
    "    \n",
    "\n",
    "# Testing Code\n",
    "x = np.array([75, 67, 95, 100])\n",
    "print(has_perfect_score(x))\n",
    "\n",
    "x = np.array([75, 67, 95, 99])\n",
    "print(has_perfect_score(x))"
   ]
  },
  {
   "cell_type": "markdown",
   "metadata": {},
   "source": [
    "### Did Everyone Pass?\n",
    "\n",
    "In this practice problem, we want you to write a function all_passed() that given a 1-dimensional ndarray representing student grades between 0 and 100 (inclusive), returns whether all students had a score of at least 50 or not.\n",
    "\n",
    "Example:\n",
    "\n",
    "x = np.array([75, 67, 95, 100])\n",
    "print(all_passed(x))\n",
    "\n",
    "Result:\n",
    "\n",
    "True\n",
    "\n",
    "In this case the answer is True because each score is greater than or equal to 50\n",
    "\n",
    "Example:\n",
    "\n",
    "x = np.array([75, 67, 45, 99])\n",
    "print(all_passed(x))\n",
    "\n",
    "Result:\n",
    "\n",
    "False\n",
    "\n",
    "In this case the answer is False because there is at least one score that is lower than 50.\n",
    "\n",
    "##### Testing Code\n",
    "#x = np.array([75, 67, 95, 100])\n",
    "#print(all_passed(x))\n",
    "\n",
    "#x = np.array([75, 67, 45, 99])\n",
    "#print(all_passed(x))"
   ]
  },
  {
   "cell_type": "code",
   "execution_count": 14,
   "metadata": {},
   "outputs": [
    {
     "name": "stdout",
     "output_type": "stream",
     "text": [
      "True\n",
      "False\n"
     ]
    }
   ],
   "source": [
    "def all_passed(x):\n",
    "    \"\"\"\n",
    "    This function takes in a 1-D ndarray representing\n",
    "    student grades between 0 and 100(inclusive) and returns\n",
    "    whether all students had a score of at least 50 or not. \n",
    "    \"\"\"\n",
    "    return (x >=50).all()\n",
    "    \n",
    "    \n",
    "    \n",
    "\n",
    "# Testing Code\n",
    "x = np.array([75, 67, 95, 100])\n",
    "print(all_passed(x))\n",
    "\n",
    "x = np.array([75, 67, 45, 99])\n",
    "print(all_passed(x))"
   ]
  },
  {
   "cell_type": "markdown",
   "metadata": {},
   "source": [
    "### Grade Categories\n",
    "\n",
    "In this practice problem, we want you to write a function grade_category_count() that given a 1-dimensional ndarray representing student grades between 0 and 100 (inclusive), returns a dictionary that counts how many grades fall in each category.\n",
    "The categories are letters A to F. For this problem, we use a simplification of the grade categories used in the USA.\n",
    "\n",
    "| Category | Grade Range |\n",
    "|----------|-------------|\n",
    "| A        | 90 to 100   |\n",
    "| B        | 80 to 89    |\n",
    "| C        | 70 to 79    |\n",
    "| D        | 65 to 69    |\n",
    "| E        | 50 to 64    |\n",
    "| F        | 0 to 49     |\n",
    "\n",
    "Example:\n",
    "\n",
    "x = np.array([75, 67, 95, 100])\n",
    "print(grade_category_count(x))\n",
    "\n",
    "Result:\n",
    "\n",
    "{'A': 2, 'B': 0, 'C': 1, 'D': 1, 'E': 0, 'F': 0}\n",
    "\n",
    "Example:\n",
    "\n",
    "x = np.array([0, 49, 50, 64, 65, 69, 70, 79, 80, 89, 90, 100])\n",
    "print(grade_category_count(x))\n",
    "\n",
    "Result:\n",
    "\n",
    "{'A': 2, 'B': 2, 'C': 2, 'D': 2, 'E': 2, 'F': 2}\n",
    "\n",
    "##### Testing Code\n",
    "#x = np.array([75, 67, 95, 100])\n",
    "#print(grade_category_count(x))\n",
    "\n",
    "#x = np.array([0, 49, 50, 64, 65, 69, 70, 79, 80, 89, 90, 100])\n",
    "#print(grade_category_count(x))"
   ]
  },
  {
   "cell_type": "code",
   "execution_count": 15,
   "metadata": {},
   "outputs": [
    {
     "name": "stdout",
     "output_type": "stream",
     "text": [
      "{'A': 2, 'B': 0, 'C': 1, 'D': 1, 'E': 0, 'F': 0}\n",
      "{'A': 2, 'B': 2, 'C': 2, 'D': 2, 'E': 2, 'F': 2}\n"
     ]
    }
   ],
   "source": [
    "def grade_category_count(x):\n",
    "    \"\"\"\n",
    "    This function takes in a 1-D ndarray representing\n",
    "    student grades between 0 and 100(inclusive) and returns\n",
    "    a dictionary that counts how many grades fall in each\n",
    "    category. \n",
    "    \"\"\"\n",
    "    #Option A - Boolean Indexing, Creating lists of key:value and Creating a dic using dict constructor and zip function. \n",
    "    \n",
    "    a_bool = (x >= 90) & (x <= 100)    \n",
    "    b_bool = (x >= 80) & (x <= 89)\n",
    "    c_bool = (x >= 70) & (x <= 79)\n",
    "    d_bool = (x >= 65) & (x <= 69)\n",
    "    e_bool = (x >= 50) & (x <= 64)\n",
    "    f_bool = (x >= 0) & (x <= 49)\n",
    "    \n",
    "    lenA = len(x[a_bool])\n",
    "    lenB = len(x[b_bool])\n",
    "    lenC = len(x[c_bool])\n",
    "    lenD = len(x[d_bool])\n",
    "    lenE = len(x[e_bool])\n",
    "    lenF = len(x[f_bool])\n",
    "    \n",
    "    grade_category = ['A', 'B', 'C', 'D', 'E', 'F']\n",
    "    grade_category_count = [lenA, lenB, lenC, lenD, lenE, lenF]\n",
    "    \n",
    "    return dict(zip(grade_category, grade_category_count))\n",
    "    \n",
    "    #Option B - Creating an empty dic and assigning key:value pairs using Boolean Indexing and numpy size attribute. \n",
    "    \n",
    "    #grade_category_count = {}\n",
    "    #grade_category_count['A'] = x[(x >= 90) & (x <= 100)].size\n",
    "    #grade_category_count['B'] = x[(x >= 80) & (x <=  89)].size\n",
    "    #grade_category_count['C'] = x[(x >= 70) & (x <=  79)].size\n",
    "    #grade_category_count['D'] = x[(x >= 65) & (x <=  69)].size\n",
    "    #grade_category_count['E'] = x[(x >= 50) & (x <=  64)].size\n",
    "    #grade_category_count['F'] = x[(x >=  0) & (x <=  49)].size\n",
    "    \n",
    "    #return grade_category_count\n",
    "\n",
    "\n",
    "# Testing Code\n",
    "x = np.array([75, 67, 95, 100])\n",
    "print(grade_category_count(x))\n",
    "\n",
    "x = np.array([0, 49, 50, 64, 65, 69, 70, 79, 80, 89, 90, 100])\n",
    "print(grade_category_count(x))"
   ]
  },
  {
   "cell_type": "markdown",
   "metadata": {},
   "source": [
    "### Multiplying By Two\n",
    "\n",
    "In this practice problem, we provide you with a 2-dimensional array and we want you to multiply each value that is smaller than 100 by 2.\n",
    "\n",
    "x = np.array([\n",
    "    [111, 48, 145, 196, 26], \n",
    "    [92, 122, 78, 157, 66], \n",
    "    [112, 173, 46, 110, 192], \n",
    "    [23, 58, 39, 186, 165], \n",
    "    [30, 67, 159, 11, 197], \n",
    "    [163, 180, 147, 103, 11], \n",
    "    [61, 6, 51, 73, 45]\n",
    "])"
   ]
  },
  {
   "cell_type": "code",
   "execution_count": 18,
   "metadata": {},
   "outputs": [
    {
     "name": "stdout",
     "output_type": "stream",
     "text": [
      "[[111  96 145 196  52]\n",
      " [184 122 156 157 132]\n",
      " [112 173  92 110 192]\n",
      " [ 46 116  78 186 165]\n",
      " [ 60 134 159  22 197]\n",
      " [163 180 147 103  22]\n",
      " [122  12 102 146  90]]\n"
     ]
    }
   ],
   "source": [
    "x = np.array([\n",
    "    [111, 48, 145, 196, 26], \n",
    "    [92, 122, 78, 157, 66], \n",
    "    [112, 173, 46, 110, 192], \n",
    "    [23, 58, 39, 186, 165], \n",
    "    [30, 67, 159, 11, 197], \n",
    "    [163, 180, 147, 103, 11], \n",
    "    [61, 6, 51, 73, 45]\n",
    "])\n",
    "\n",
    "x[x < 100] *= 2\n",
    "print(x)"
   ]
  },
  {
   "cell_type": "markdown",
   "metadata": {},
   "source": [
    "### Making It Even\n",
    "\n",
    "In this practice problem, we provide you with a 2-dimensional array and we want you to turn every entry into an even number. To do so, entries that are already even should remain the same and you should increment by one each of the odd entry.\n",
    "\n",
    "x = np.array([\n",
    "    [111, 48, 145, 196, 26], \n",
    "    [92, 122, 78, 157, 66], \n",
    "    [112, 173, 46, 110, 192], \n",
    "    [23, 58, 39, 186, 165], \n",
    "    [30, 67, 159, 11, 197], \n",
    "    [163, 180, 147, 103, 11], \n",
    "    [61, 6, 51, 73, 45]\n",
    "])"
   ]
  },
  {
   "cell_type": "code",
   "execution_count": 17,
   "metadata": {},
   "outputs": [
    {
     "name": "stdout",
     "output_type": "stream",
     "text": [
      "[[112  48 146 196  26]\n",
      " [ 92 122  78 158  66]\n",
      " [112 174  46 110 192]\n",
      " [ 24  58  40 186 166]\n",
      " [ 30  68 160  12 198]\n",
      " [164 180 148 104  12]\n",
      " [ 62   6  52  74  46]]\n"
     ]
    }
   ],
   "source": [
    "x = np.array([\n",
    "    [111, 48, 145, 196, 26], \n",
    "    [92, 122, 78, 157, 66], \n",
    "    [112, 173, 46, 110, 192], \n",
    "    [23, 58, 39, 186, 165], \n",
    "    [30, 67, 159, 11, 197], \n",
    "    [163, 180, 147, 103, 11], \n",
    "    [61, 6, 51, 73, 45]\n",
    "])\n",
    "\n",
    "x[x % 2 != 0] += 1 \n",
    "print(x)"
   ]
  },
  {
   "cell_type": "markdown",
   "metadata": {},
   "source": [
    "### Partitioning By Index\n",
    "\n",
    "In this practice problem, we want you to write a partition() function given a 1-dimensional array x and an index i returns two 1-dimensional arrays. The first one should contain the values of x that are smaller than or equal to x[i]. The second one should contain the values of x that are bigger than x[i].\n",
    "\n",
    "Example:\n",
    "\n",
    "x = np.array([5, 4, 3, 1, 2, 6])\n",
    "print(partition(x, 1))\n",
    "\n",
    "Result:\n",
    "\n",
    "(array([4, 3, 1, 2]), array([5, 6]))\n",
    "\n",
    "In the above example, we use index i = 1. Since x[1] is 4, the first ndarray contains the values that are less than or equal to 4 while the second ndarray contains the values that are bigger than 4. \n",
    "\n",
    "##### Testing Code\n",
    "#x = np.array([5, 4, 3, 1, 2, 6])\n",
    "#print(partition(x, 1))"
   ]
  },
  {
   "cell_type": "code",
   "execution_count": 18,
   "metadata": {},
   "outputs": [
    {
     "name": "stdout",
     "output_type": "stream",
     "text": [
      "(array([4, 3, 1, 2]), array([5, 6]))\n"
     ]
    }
   ],
   "source": [
    "def partition(x,i):\n",
    "    \"\"\"\n",
    "    This function takes in a 1-D ndarray and an \n",
    "    index i and returns two 1-D ndarrays of which\n",
    "    the first contains the values of x that are smaller \n",
    "    than or equal to x[i] and the second contains the \n",
    "    values of x that are bigger than x[i].\n",
    "    \"\"\"\n",
    "    index_num = x[i]\n",
    "    \n",
    "    return (x[x <= index_num], x[x > index_num])\n",
    "\n",
    "\n",
    "# Testing Code\n",
    "x = np.array([5, 4, 3, 1, 2, 6])\n",
    "print(partition(x, 1))"
   ]
  },
  {
   "cell_type": "markdown",
   "metadata": {},
   "source": [
    "### Partitioning By Median\n",
    "\n",
    "In this practice problem, we want you to write a partition_by_median() function given a 1-dimensional array x and returns two 1-dimensional arrays. The first one should contain the values of x that are smaller than or equal to the median of x. The second one should contain the values of x that are bigger than the median of x.\n",
    "\n",
    "Example:\n",
    "\n",
    "x = np.array([5, 4, 3, 1, 2, 6])\n",
    "print(partition_by_median(x))\n",
    "\n",
    "Result:\n",
    "\n",
    "(array([3, 1, 2]), array([5, 4, 6]))\n",
    "\n",
    "In the above example, the media is equal to 3.5.\n",
    "\n",
    "##### Testing Code\n",
    "#x = np.array([5, 4, 3, 1, 2, 6])\n",
    "#print(partition_by_median(x))"
   ]
  },
  {
   "cell_type": "code",
   "execution_count": 19,
   "metadata": {},
   "outputs": [
    {
     "name": "stdout",
     "output_type": "stream",
     "text": [
      "(array([3, 1, 2]), array([5, 4, 6]))\n"
     ]
    }
   ],
   "source": [
    "def partition_by_median(x):\n",
    "    \"\"\"\n",
    "    This function takes in a 1-D ndarray\n",
    "    and returns two 1-D ndarrays of which\n",
    "    the first contains the values of x that are smaller \n",
    "    than or equal to the mean of x and the second contains the \n",
    "    values of x that are bigger than the median of x.\n",
    "    \"\"\"\n",
    "    median = np.median(x)\n",
    "    return (x[x <= median], x[x > median])\n",
    "\n",
    "\n",
    "# Testing Code\n",
    "x = np.array([5, 4, 3, 1, 2, 6])\n",
    "print(partition_by_median(x))"
   ]
  },
  {
   "cell_type": "markdown",
   "metadata": {},
   "source": [
    "### Removing Non-Integer Values\n",
    "\n",
    "In this practice problem, we provide you with a 1-dimensional array and we want you to remove all of its values that are not whole numbers.\n",
    "\n",
    "x = np.array([69, 11, 90.49457494755877, 24, 41.54767580801889, 20.12965860001413, 91, 8.907758419177767, 29.20435557818945, 8, 45.18320647101104, 62, 16.968544743478553, 40, 51, 68, 55.20359682954337, 62, 50.42464165922171, 87.27047049165729, 85, 55.52435761508429, 17, 12, 74, 87.07403786258838, 15, 45.609731039236806, 92, 76, 21, 63.8621099409078, 69.59406746317076, 72.80028174630625, 85.05847290039019, 28.358592338847522, 17.45367343314122, 2.153572543427297, 55, 44.357813470302936, 32.05250226743463, 58, 29.824086847791452, 37.91413490742849, 40.623640765035375, 56.51534195174339, 15, 47.739633378954096, 18.538416505563532, 59.81627771902749])"
   ]
  },
  {
   "cell_type": "code",
   "execution_count": 20,
   "metadata": {},
   "outputs": [
    {
     "name": "stdout",
     "output_type": "stream",
     "text": [
      "[69. 11. 24. 91.  8. 62. 40. 51. 68. 62. 85. 17. 12. 74. 15. 92. 76. 21.\n",
      " 55. 58. 15.]\n"
     ]
    },
    {
     "data": {
      "text/plain": [
       "dtype('float64')"
      ]
     },
     "execution_count": 20,
     "metadata": {},
     "output_type": "execute_result"
    }
   ],
   "source": [
    "x = np.array([69, 11, 90.49457494755877, 24, 41.54767580801889, 20.12965860001413, 91, 8.907758419177767, 29.20435557818945, 8, 45.18320647101104, 62, 16.968544743478553, 40, 51, 68, 55.20359682954337, 62, 50.42464165922171, 87.27047049165729, 85, 55.52435761508429, 17, 12, 74, 87.07403786258838, 15, 45.609731039236806, 92, 76, 21, 63.8621099409078, 69.59406746317076, 72.80028174630625, 85.05847290039019, 28.358592338847522, 17.45367343314122, 2.153572543427297, 55, 44.357813470302936, 32.05250226743463, 58, 29.824086847791452, 37.91413490742849, 40.623640765035375, 56.51534195174339, 15, 47.739633378954096, 18.538416505563532, 59.81627771902749])\n",
    "\n",
    "roundnp = np.round(x)\n",
    "x = x[x == roundnp] \n",
    "print(x)"
   ]
  },
  {
   "cell_type": "markdown",
   "metadata": {},
   "source": [
    "### Exclusive OR\n",
    "\n",
    "In this practice problem, we provide you with a 2-dimensional array with two columns. We want you to retrieve all rows so that exactly one of these conditions is true:\n",
    "\n",
    "The value in the first column is smaller than 100\n",
    "\n",
    "The value in the second column is bigger than 100\n",
    "\n",
    "x = np.array([[118, 90], [50, 6], [149, 162], [160, 36], [55, 197], [188, 85], [194, 25], [1, 95], [84, 116], [198, 92], [56, 148], [37, 145], [78, 193], [47, 8], [3, 108], [23, 69], [44, 47], [70, 57], [54, 50], [20, 78]])"
   ]
  },
  {
   "cell_type": "code",
   "execution_count": 21,
   "metadata": {},
   "outputs": [
    {
     "name": "stdout",
     "output_type": "stream",
     "text": [
      "[[ 50   6]\n",
      " [149 162]\n",
      " [  1  95]\n",
      " [ 47   8]\n",
      " [ 23  69]\n",
      " [ 44  47]\n",
      " [ 70  57]\n",
      " [ 54  50]\n",
      " [ 20  78]]\n"
     ]
    }
   ],
   "source": [
    "x = np.array([[118, 90], [50, 6], [149, 162], [160, 36], [55, 197], [188, 85], [194, 25], [1, 95], [84, 116], [198, 92], [56, 148], [37, 145], [78, 193], [47, 8], [3, 108], [23, 69], [44, 47], [70, 57], [54, 50], [20, 78]])\n",
    "\n",
    "y = x[(x[:, 0] < 100) ^ (x[:, 1] > 100)]\n",
    "print(y)"
   ]
  }
 ],
 "metadata": {
  "kernelspec": {
   "display_name": "Python 3",
   "language": "python",
   "name": "python3"
  },
  "language_info": {
   "codemirror_mode": {
    "name": "ipython",
    "version": 3
   },
   "file_extension": ".py",
   "mimetype": "text/x-python",
   "name": "python",
   "nbconvert_exporter": "python",
   "pygments_lexer": "ipython3",
   "version": "3.9.5"
  }
 },
 "nbformat": 4,
 "nbformat_minor": 4
}
