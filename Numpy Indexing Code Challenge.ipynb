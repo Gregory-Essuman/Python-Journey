{
 "cells": [
  {
   "cell_type": "markdown",
   "metadata": {},
   "source": [
    "# Numpy Code Challenge\n",
    "\n",
    "### Selecting Even Indices"
   ]
  },
  {
   "cell_type": "markdown",
   "metadata": {},
   "source": [
    "In this practice challenge, we ask you to create an ndarray from a given list and select the values located at even indexes.\n",
    "\n",
    "values = [7, 4, 5, 8, 9, 0, 1, 3, 2, 6]"
   ]
  },
  {
   "cell_type": "code",
   "execution_count": 1,
   "metadata": {},
   "outputs": [
    {
     "name": "stdout",
     "output_type": "stream",
     "text": [
      "[7 5 9 1 2]\n"
     ]
    }
   ],
   "source": [
    "import numpy as np\n",
    "values = [7, 4, 5, 8, 9, 0, 1, 3, 2, 6]\n",
    "\n",
    "x = np.array(values)\n",
    "even = x[::2]\n",
    "print(even)"
   ]
  },
  {
   "cell_type": "markdown",
   "metadata": {},
   "source": [
    "### Selecting Odd Indices\n",
    "\n",
    "In this practice challenge, we ask you to create an ndarray from a given list and select the values located at odd indexes.\n",
    "\n",
    "values = [7, 4, 5, 8, 9, 0, 1, 3, 2, 6]"
   ]
  },
  {
   "cell_type": "code",
   "execution_count": 2,
   "metadata": {},
   "outputs": [
    {
     "name": "stdout",
     "output_type": "stream",
     "text": [
      "[4 8 0 3 6]\n"
     ]
    }
   ],
   "source": [
    "x = np.array(values)\n",
    "odd = x[1::2]\n",
    "print(odd)"
   ]
  },
  {
   "cell_type": "markdown",
   "metadata": {},
   "source": [
    "### Reversing an Ndarray\n",
    "\n",
    "In this practice challenge, we ask you create an ndarray from a given list and to reverse the order of its values.\n",
    "\n",
    "values = [7, 4, 5, 8, 9, 0, 1, 3, 2, 6]"
   ]
  },
  {
   "cell_type": "code",
   "execution_count": 3,
   "metadata": {},
   "outputs": [
    {
     "name": "stdout",
     "output_type": "stream",
     "text": [
      "[6 2 3 1 0 9 8 5 4 7]\n"
     ]
    }
   ],
   "source": [
    "x = np.array(values)\n",
    "reverse = x[::-1]\n",
    "print(reverse)"
   ]
  },
  {
   "cell_type": "markdown",
   "metadata": {},
   "source": [
    "### Getting the First Half\n",
    "\n",
    "Write a function first_half() that, given a 1-dimensional array, returns an ndarray that contains the first half of the provided ndarray. If the input ndarray has an odd number of elements, you should exclude the middle element.\n",
    "\n",
    "##### Testing Code\n",
    "x = np.array([1, 2, 3, 4])\n",
    "print(first_half(x))\n",
    "\n",
    "x = np.array([1, 2, 3, 4, 5])\n",
    "print(first_half(x))"
   ]
  },
  {
   "cell_type": "code",
   "execution_count": 4,
   "metadata": {},
   "outputs": [
    {
     "name": "stdout",
     "output_type": "stream",
     "text": [
      "[1 2]\n",
      "[1 2]\n"
     ]
    }
   ],
   "source": [
    "def first_half(x):\n",
    "    length = len(x)\n",
    "    first_half = length // 2\n",
    "    middle_number = np.median(x)\n",
    "    middle_int_number = int(middle_number)\n",
    "    middle_index_number = np.where(x == middle_int_number) \n",
    "    int_middle_index_number = middle_index_number[0]\n",
    "    number = int_middle_index_number[0]\n",
    "    if length % 2 == 0:\n",
    "        return x[:first_half]\n",
    "    else:\n",
    "        return x[:number]\n",
    "\n",
    "# Testing Code\n",
    "x = np.array([1, 2, 3, 4])\n",
    "print(first_half(x))\n",
    "\n",
    "x = np.array([1, 2, 3, 4, 5])\n",
    "print(first_half(x))"
   ]
  },
  {
   "cell_type": "markdown",
   "metadata": {},
   "source": [
    "### Getting the Second Half\n",
    "\n",
    "Write a function second_half() that, given a 1-dimensional array, returns an ndarray containing the second half of the provided ndarray. If the input ndarray has an odd number of elements, you should include the middle element.\n",
    "\n",
    "##### Testing Code\n",
    "x = np.array([1, 2, 3, 4])\n",
    "print(first_half(x))\n",
    "\n",
    "x = np.array([1, 2, 3, 4, 5])\n",
    "print(first_half(x))"
   ]
  },
  {
   "cell_type": "code",
   "execution_count": 5,
   "metadata": {},
   "outputs": [
    {
     "name": "stdout",
     "output_type": "stream",
     "text": [
      "[3 4]\n",
      "[3 4 5]\n"
     ]
    }
   ],
   "source": [
    "def second_half(y):\n",
    "    length = len(y)\n",
    "    second_half = length // 2\n",
    "    middle_number = np.median(y)\n",
    "    middle_int_number = int(middle_number)\n",
    "    middle_index_number = np.where(y == middle_int_number) \n",
    "    int_middle_index_number = middle_index_number[0]\n",
    "    number = int_middle_index_number[0]\n",
    "    if length % 2 == 0:\n",
    "        return y[second_half:]\n",
    "    else:\n",
    "        return y[number:]\n",
    "\n",
    "# Testing Code\n",
    "y = np.array([1, 2, 3, 4])\n",
    "print(second_half(y))\n",
    "\n",
    "y = np.array([1, 2, 3, 4, 5])\n",
    "print(second_half(y))"
   ]
  },
  {
   "cell_type": "markdown",
   "metadata": {},
   "source": [
    "### Concatenating Ndarrays\n",
    "\n",
    "Use the np.concatenate() function to concatenate two ndarrays from the sequence below.\n",
    "\n",
    "values1 = [5, 7, 4, 6, 3, 9]\n",
    "values2 = [2, 1, 8, 0]"
   ]
  },
  {
   "cell_type": "code",
   "execution_count": 6,
   "metadata": {},
   "outputs": [
    {
     "name": "stdout",
     "output_type": "stream",
     "text": [
      "[5 7 4 6 3 9 2 1 8 0]\n"
     ]
    }
   ],
   "source": [
    "values1 = [5, 7, 4, 6, 3, 9]\n",
    "values2 = [2, 1, 8, 0]\n",
    "\n",
    "x = np.array(values1)\n",
    "y = np.array(values2)\n",
    "concat = np.concatenate([values1,values2])\n",
    "\n",
    "print(concat)"
   ]
  },
  {
   "cell_type": "markdown",
   "metadata": {},
   "source": [
    "### Mixing Ndarrays\n",
    "\n",
    "Write a function mix() that, given two 1-dimensional arrays x and y, produces a new ndarray where:\n",
    "\n",
    "1. The first half of its values corresponds to the first half of x (excluding the middle element if x has an odd length).\n",
    "\n",
    "2. The second half of its values corresponds to the second half of y (including the middle element if y has an odd length).\n",
    "\n",
    "##### Testing Code\n",
    "x = np.array([1, 2, 3, 4, 5])\n",
    "y = np.array([6, 7, 8, 9, 10])\n",
    "z = mix(x, y)\n",
    "print(z)"
   ]
  },
  {
   "cell_type": "code",
   "execution_count": 7,
   "metadata": {},
   "outputs": [
    {
     "name": "stdout",
     "output_type": "stream",
     "text": [
      "[ 1  2  8  9 10]\n"
     ]
    }
   ],
   "source": [
    "def mix(x, y):\n",
    "    return np.concatenate([x[:len(x)//2], y[len(y)//2:]])\n",
    "\n",
    "# Alternate Solution\n",
    "\n",
    "#def mix(x,y):\n",
    "#    return np.concatenate([first_half(x), second_half(y)])\n",
    "\n",
    "# Testing Code\n",
    "x = np.array([1, 2, 3, 4, 5])\n",
    "y = np.array([6, 7, 8, 9, 10])\n",
    "z = mix(x, y)\n",
    "\n",
    "print(z)"
   ]
  },
  {
   "cell_type": "markdown",
   "metadata": {},
   "source": [
    "### Reverse and Skip\n",
    "\n",
    "In this practice challenge, we ask you to reverse the values of a 1-dimensional ndarray below while skipping every other value.\n",
    "\n",
    "For example, if the ndarray is [1 2 3 4 5 6 7] then you need to obtain [7 5 3 1].\n",
    "\n",
    "values = [7, 4, 5, 8, 9, 0, 1, 3, 2, 6]"
   ]
  },
  {
   "cell_type": "code",
   "execution_count": 8,
   "metadata": {},
   "outputs": [
    {
     "name": "stdout",
     "output_type": "stream",
     "text": [
      "[6 3 0 8 4]\n"
     ]
    }
   ],
   "source": [
    "values = [7, 4, 5, 8, 9, 0, 1, 3, 2, 6]\n",
    "\n",
    "x = np.array(values)\n",
    "reverse_skip = x[::-2]\n",
    "\n",
    "print(reverse_skip)"
   ]
  },
  {
   "cell_type": "markdown",
   "metadata": {},
   "source": [
    "### Reversing a 2-D Array\n",
    "\n",
    "In this practice challenge we want you to reverse a 2-dimensional ndarray. In other words, we want to obtain an ndarray where both the rows and the columns are in reverse order.\n",
    "\n",
    "values = [\n",
    "    [5, 6, 5, 5, 8, 9, 9], \n",
    "    [9, 5, 1, 4, 5, 9, 7], \n",
    "    [3, 9, 6, 2, 1, 2, 3], \n",
    "    [1, 7, 6, 7, 1, 7, 5], \n",
    "    [2, 1, 3, 8, 7, 8, 8], \n",
    "    [2, 9, 3, 6, 4, 6, 4]\n",
    "]"
   ]
  },
  {
   "cell_type": "code",
   "execution_count": 9,
   "metadata": {},
   "outputs": [
    {
     "name": "stdout",
     "output_type": "stream",
     "text": [
      "[[4 6 4 6 3 9 2]\n",
      " [8 8 7 8 3 1 2]\n",
      " [5 7 1 7 6 7 1]\n",
      " [3 2 1 2 6 9 3]\n",
      " [7 9 5 4 1 5 9]\n",
      " [9 9 8 5 5 6 5]]\n"
     ]
    }
   ],
   "source": [
    "values = [\n",
    "    [5, 6, 5, 5, 8, 9, 9], \n",
    "    [9, 5, 1, 4, 5, 9, 7], \n",
    "    [3, 9, 6, 2, 1, 2, 3], \n",
    "    [1, 7, 6, 7, 1, 7, 5], \n",
    "    [2, 1, 3, 8, 7, 8, 8], \n",
    "    [2, 9, 3, 6, 4, 6, 4]\n",
    "]\n",
    "\n",
    "x = np.array(values)\n",
    "reverse_2d = x[::-1, ::-1]\n",
    "\n",
    "print(reverse_2d)"
   ]
  },
  {
   "cell_type": "markdown",
   "metadata": {},
   "source": [
    "### Row Selection\n",
    "\n",
    "In this practice challenge, you'll write a function select_rows() that given a 2-dimensional array and a list of row indexes, returns a 2-dimensional array consisting only of those rows.\n",
    "\n",
    "##### Testing Code\n",
    "x = np.array([[ 1,  2,  3,  4], [ 5,  6,  7,  8], [ 9, 10, 11, 12], [13, 14, 15, 16], [17, 18, 19, 20]])\n",
    "rows_1_4_3 = select_rows(x, [1, 4, 3])\n",
    "print(rows_1_4_3)"
   ]
  },
  {
   "cell_type": "code",
   "execution_count": 10,
   "metadata": {},
   "outputs": [
    {
     "name": "stdout",
     "output_type": "stream",
     "text": [
      "[[ 5  6  7  8]\n",
      " [17 18 19 20]\n",
      " [13 14 15 16]]\n"
     ]
    }
   ],
   "source": [
    "def select_rows(x, row_indexes):\n",
    "    return x[row_indexes, :]\n",
    "\n",
    "# Testing Code\n",
    "x = np.array([[ 1,  2,  3,  4], [ 5,  6,  7,  8], [ 9, 10, 11, 12], [13, 14, 15, 16], [17, 18, 19, 20]])\n",
    "rows_1_4_3 = select_rows(x, [1, 4, 3])\n",
    "print(rows_1_4_3)"
   ]
  },
  {
   "cell_type": "markdown",
   "metadata": {},
   "source": [
    "### Column Selection\n",
    "\n",
    "In this practice challenge, you'll write a function select_columns() that given a 2-dimensional array and a list of column indexes, returns a 2-dimensional array consisting only of those columns.\n",
    "\n",
    "##### Testing Code\n",
    "\n",
    "x = np.array([[ 1,  2,  3,  4], [ 5,  6,  7,  8], [ 9, 10, 11, 12], [13, 14, 15, 16], [17, 18, 19, 20]])\n",
    "cols_3_0 = select_columns(x, [3, 0])\n",
    "print(cols_3_0)"
   ]
  },
  {
   "cell_type": "code",
   "execution_count": 11,
   "metadata": {},
   "outputs": [
    {
     "name": "stdout",
     "output_type": "stream",
     "text": [
      "[[ 4  1]\n",
      " [ 8  5]\n",
      " [12  9]\n",
      " [16 13]\n",
      " [20 17]]\n"
     ]
    }
   ],
   "source": [
    "def select_columns(x, col_indexes):\n",
    "    return x[:, col_indexes]\n",
    "\n",
    "\n",
    "# Testing Code\n",
    "x = np.array([[ 1,  2,  3,  4], [ 5,  6,  7,  8], [ 9, 10, 11, 12], [13, 14, 15, 16], [17, 18, 19, 20]])\n",
    "cols_3_0 = select_columns(x, [3, 0])\n",
    "print(cols_3_0)"
   ]
  },
  {
   "cell_type": "markdown",
   "metadata": {},
   "source": [
    "### Row Copies\n",
    "\n",
    "In this practice challenge, you'll write a function copy_row_k_times() that given a 2-dimensional array, a row index row_index and a positive integer num_copies, creates a ndarray containing num_copies copies of row index row_index.\n",
    "See the following example for clarity:\n",
    "\n",
    "x = np.array([\n",
    "    [ 1,  2,  3,  4], \n",
    "    [ 5,  6,  7,  8], \n",
    "    [ 9, 10, 11, 12]\n",
    "])\n",
    "row_k_times = copy_row_k_times(x, 1, 4)\n",
    "print(row_k_times)\n",
    "\n",
    "[[5 6 7 8]\n",
    " [5 6 7 8]\n",
    " [5 6 7 8]\n",
    " [5 6 7 8]]\n",
    " \n",
    "As you can see, this function created 4 copies for the row from x that has with index 1\n",
    "\n",
    "##### Testing code\n",
    "\n",
    "x = np.array([[ 1,  2,  3,  4], [ 5,  6,  7,  8], [ 9, 10, 11, 12]])\n",
    "row_k_times = copy_row_k_times(x, 1, 4)\n",
    "print(row_k_times)"
   ]
  },
  {
   "cell_type": "code",
   "execution_count": 12,
   "metadata": {},
   "outputs": [
    {
     "name": "stdout",
     "output_type": "stream",
     "text": [
      "[[5 6 7 8]\n",
      " [5 6 7 8]\n",
      " [5 6 7 8]\n",
      " [5 6 7 8]]\n"
     ]
    }
   ],
   "source": [
    "def copy_row_k_times(x, row_index, num_copies):\n",
    "    return x[[row_index] * num_copies]\n",
    "\n",
    "\n",
    "# Testing Code\n",
    "x = np.array([[ 1,  2,  3,  4], [ 5,  6,  7,  8], [ 9, 10, 11, 12]])\n",
    "row_k_times = copy_row_k_times(x, 1, 4)\n",
    "print(row_k_times)"
   ]
  },
  {
   "cell_type": "markdown",
   "metadata": {},
   "source": [
    "### Selecting from a 2-D Array 1\n",
    "\n",
    "In this practice challenge, we want you to select the entries highlighted in green of a 2-dimensional array.\n",
    "\n",
    "![Image1](https://drive.google.com/file/d/1ujphPiOUtAZO73wzTidYcS7HCBBqNlBo/view?usp=sharing)\n",
    "\n",
    "array2d = np.array([\n",
    "    [ 1,  2,  3,  4,  5],\n",
    "    [ 6,  7,  8,  9, 10],\n",
    "    [11, 12, 13, 14, 15],\n",
    "    [16, 17, 18, 19, 20],\n",
    "])"
   ]
  },
  {
   "cell_type": "code",
   "execution_count": 13,
   "metadata": {},
   "outputs": [
    {
     "name": "stdout",
     "output_type": "stream",
     "text": [
      "[[ 2  3]\n",
      " [ 7  8]\n",
      " [12 13]\n",
      " [17 18]]\n",
      "[[ 1  2  3  4  5]\n",
      " [11 12 13 14 15]]\n",
      "[12 13 14]\n"
     ]
    }
   ],
   "source": [
    "array2d = np.array([\n",
    "    [ 1,  2,  3,  4,  5],\n",
    "    [ 6,  7,  8,  9, 10],\n",
    "    [11, 12, 13, 14, 15],\n",
    "    [16, 17, 18, 19, 20],\n",
    "])\n",
    "\n",
    "x1 = array2d[:,1:3]\n",
    "y1 = array2d[[0,2],:]\n",
    "z1 = array2d[2,1:4]\n",
    "\n",
    "print(x1)\n",
    "print(y1)\n",
    "print(z1)"
   ]
  },
  {
   "cell_type": "markdown",
   "metadata": {},
   "source": [
    "### Selecting from a 2-D Array 2\n",
    "\n",
    "In this practice challenge, we want you to select the entries highlighted in green of a 2-dimensional array.\n",
    "\n",
    "![Image2](https://drive.google.com/file/d/1GTFFw9vCSCPvR85sROK3pKtsh3tgzfDC/view?usp=sharing)\n",
    "\n",
    "array2d = np.array([\n",
    "    [ 1,  2,  3,  4,  5],\n",
    "    [ 6,  7,  8,  9, 10],\n",
    "    [11, 12, 13, 14, 15],\n",
    "    [16, 17, 18, 19, 20],\n",
    "])\n"
   ]
  },
  {
   "cell_type": "code",
   "execution_count": 14,
   "metadata": {},
   "outputs": [
    {
     "name": "stdout",
     "output_type": "stream",
     "text": [
      "[[ 6  8 10]\n",
      " [16 18 20]]\n",
      "[[ 2  4]\n",
      " [12 14]]\n",
      "[[ 2  3  4]\n",
      " [12 13 14]]\n"
     ]
    }
   ],
   "source": [
    "array2d = np.array([\n",
    "    [ 1,  2,  3,  4,  5],\n",
    "    [ 6,  7,  8,  9, 10],\n",
    "    [11, 12, 13, 14, 15],\n",
    "    [16, 17, 18, 19, 20],\n",
    "])\n",
    "\n",
    "x2 = array2d[1::2, ::2]\n",
    "y2 = array2d[::2, 1::2]\n",
    "z2 = array2d[[0,2],1:4]\n",
    "\n",
    "print(x2)\n",
    "print(y2)\n",
    "print(z2)"
   ]
  },
  {
   "cell_type": "markdown",
   "metadata": {},
   "source": [
    "### Selecting from a 2-D Array 3\n",
    "\n",
    "In this practice challenge, we want you to select the entries highlighted in green of a 2-dimensional array.\n",
    "\n",
    "![Image3](https://drive.google.com/file/d/1Gq6flsy7oFWysmApTfqAjfNasLBNMbr9/view?usp=sharing)\n",
    "\n",
    "array2d = np.array([\n",
    "    [ 1,  2,  3,  4,  5],\n",
    "    [ 6,  7,  8,  9, 10],\n",
    "    [11, 12, 13, 14, 15],\n",
    "    [16, 17, 18, 19, 20],\n",
    "])\n"
   ]
  },
  {
   "cell_type": "code",
   "execution_count": 15,
   "metadata": {},
   "outputs": [
    {
     "name": "stdout",
     "output_type": "stream",
     "text": [
      "[[ 3  4  5]\n",
      " [ 8  9 10]\n",
      " [13 14 15]\n",
      " [18 19 20]]\n",
      "[[ 7  8  9 10]\n",
      " [12 13 14 15]\n",
      " [17 18 19 20]]\n",
      "[[ 1  2  3  4]\n",
      " [ 6  7  8  9]\n",
      " [11 12 13 14]]\n"
     ]
    }
   ],
   "source": [
    "array2d = np.array([\n",
    "    [ 1,  2,  3,  4,  5],\n",
    "    [ 6,  7,  8,  9, 10],\n",
    "    [11, 12, 13, 14, 15],\n",
    "    [16, 17, 18, 19, 20],\n",
    "])\n",
    "\n",
    "x3 = array2d[:,2:]\n",
    "y3 = array2d[1:,1:]\n",
    "z3 = array2d[:3,:4]\n",
    "\n",
    "print(x3)\n",
    "print(y3)\n",
    "print(z3)"
   ]
  },
  {
   "cell_type": "markdown",
   "metadata": {},
   "source": [
    "### Swapping Rows\n",
    "\n",
    "In this practice challenge, we want you to write a function swap_rows() that given a 2-dimensional array and two row indexes, swaps those two rows.\n",
    "\n",
    "Example:\n",
    "\n",
    "x = np.array([\n",
    "    [1,  2,  3,  4],\n",
    "    [5,  6,  7,  8],\n",
    "    [9, 10, 11, 12]\n",
    "])\n",
    "swap_rows(x, 0, 1)\n",
    "print(x)\n",
    "\n",
    "[[ 5  6  7  8]\n",
    " [ 1  2  3  4]\n",
    " [ 9 10 11 12]]\n",
    " \n",
    " Note that the function does not return anything, it modifies the given ndarray directly.\n",
    " \n",
    " ##### Testing Code\n",
    " \n",
    " x = np.array([[1,  2,  3,  4], [5,  6,  7,  8], [9, 10, 11, 12]])\n",
    "swap_rows(x, 0, 2)\n",
    "print(x)"
   ]
  },
  {
   "cell_type": "code",
   "execution_count": 16,
   "metadata": {},
   "outputs": [
    {
     "name": "stdout",
     "output_type": "stream",
     "text": [
      "[[ 9 10 11 12]\n",
      " [ 5  6  7  8]\n",
      " [ 1  2  3  4]]\n"
     ]
    }
   ],
   "source": [
    "def swap_rows(x,row_index1,row_index2):\n",
    "    x[[row_index1, row_index2]] = x[[row_index2, row_index1]]\n",
    "\n",
    "\n",
    "# Testing Code\n",
    "x = np.array([[1,  2,  3,  4], [5,  6,  7,  8], [9, 10, 11, 12]])\n",
    "swap_rows(x, 0, 2)\n",
    "print(x)"
   ]
  },
  {
   "cell_type": "markdown",
   "metadata": {},
   "source": [
    "### Swapping Columns\n",
    "\n",
    "In this practice challenge, we want you to write a function swap_cols() that given a 2-dimensional array and two column indexes, swaps those two columns.\n",
    "\n",
    "Example:\n",
    "\n",
    "x = np.array([\n",
    "    [1,  2,  3,  4],\n",
    "    [5,  6,  7,  8],\n",
    "    [9, 10, 11, 12]\n",
    "])\n",
    "swap_cols(x, 0, 1)\n",
    "print(x)\n",
    "\n",
    "[[ 2  1  3  4]\n",
    " [ 6  5  7  8]\n",
    " [10  9 11 12]]\n",
    " \n",
    "Note that the function does not return anything, it modifies the given ndarray directly.\n",
    "\n",
    "##### Testing Code\n",
    "\n",
    "x = np.array([[1,  2,  3,  4], [5,  6,  7,  8], [9, 10, 11, 12]])\n",
    "swap_cols(x, 0, 1)\n",
    "print(x)\n"
   ]
  },
  {
   "cell_type": "code",
   "execution_count": 17,
   "metadata": {},
   "outputs": [
    {
     "name": "stdout",
     "output_type": "stream",
     "text": [
      "[[ 2  1  3  4]\n",
      " [ 6  5  7  8]\n",
      " [10  9 11 12]]\n"
     ]
    }
   ],
   "source": [
    "def swap_cols(x,col_index1,col_index2):\n",
    "    x[:, [col_index1, col_index2]] = x[:, [col_index2, col_index1]]\n",
    "\n",
    "\n",
    "# Testing Code\n",
    "x = np.array([[1,  2,  3,  4], [5,  6,  7,  8], [9, 10, 11, 12]])\n",
    "swap_cols(x, 0, 1)\n",
    "print(x)"
   ]
  }
 ],
 "metadata": {
  "kernelspec": {
   "display_name": "Python 3",
   "language": "python",
   "name": "python3"
  },
  "language_info": {
   "codemirror_mode": {
    "name": "ipython",
    "version": 3
   },
   "file_extension": ".py",
   "mimetype": "text/x-python",
   "name": "python",
   "nbconvert_exporter": "python",
   "pygments_lexer": "ipython3",
   "version": "3.9.5"
  }
 },
 "nbformat": 4,
 "nbformat_minor": 4
}
